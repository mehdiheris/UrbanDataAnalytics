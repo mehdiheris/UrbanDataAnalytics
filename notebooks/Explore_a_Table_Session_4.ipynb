{
 "cells": [
  {
   "cell_type": "code",
   "execution_count": null,
   "id": "2f22738b-4ea2-4a4e-b3b4-8e0bf56fcdf2",
   "metadata": {},
   "outputs": [],
   "source": [
    "from google.colab import drive\n",
    "\n",
    "# Mount Google Drive\n",
    "drive.mount('/content/drive')\n",
    "\n",
    "# Navigate to the desired directory\n",
    "import os\n",
    "os.chdir('/content/drive/My Drive/')\n",
    "\n",
    "# Verify the current working directory\n",
    "!pwd"
   ]
  },
  {
   "cell_type": "code",
   "execution_count": null,
   "id": "7390b4cd-bfba-4d72-b691-d043481659e2",
   "metadata": {},
   "outputs": [],
   "source": [
    "# Import necessary libraries\n",
    "import pandas as pd\n",
    "import seaborn as sns"
   ]
  },
  {
   "cell_type": "code",
   "execution_count": null,
   "id": "567bf015-3f0b-462e-bfda-8e3b904fae56",
   "metadata": {},
   "outputs": [],
   "source": [
    "# Load a CSV file into a DataFrame\n",
    "df = pd.read_csv('your_file.csv')"
   ]
  },
  {
   "cell_type": "code",
   "execution_count": null,
   "id": "e9002071-4025-4528-b2ee-1d8718399d72",
   "metadata": {},
   "outputs": [],
   "source": [
    "# Display basic information about the DataFrame\n",
    "df.info()"
   ]
  },
  {
   "cell_type": "code",
   "execution_count": null,
   "id": "0fe88c9f-d42d-4d52-b40e-7aa6c22a0be5",
   "metadata": {},
   "outputs": [],
   "source": [
    "# Describe a specific column in the DataFrame\n",
    "df['your_column'].describe()"
   ]
  },
  {
   "cell_type": "code",
   "execution_count": null,
   "id": "e47660dc-ac73-4362-b949-36fb10658b7a",
   "metadata": {},
   "outputs": [],
   "source": [
    "# Check for null or NaN values in the DataFrame\n",
    "df.isnull().sum()"
   ]
  },
  {
   "cell_type": "code",
   "execution_count": null,
   "id": "bb274077-ea47-472b-9ce6-c9ad2ac860d4",
   "metadata": {},
   "outputs": [],
   "source": [
    "# Drop rows with NaN values\n",
    "# Explanation:\n",
    "# In this example, we are choosing to drop rows that contain NaN values because they might represent incomplete or missing data that could skew our analysis. \n",
    "# It's important to assess the impact of dropping these rows on the overall dataset. If a large portion of data is missing, other methods such as filling in missing values might be considered.\n",
    "df = df.dropna()"
   ]
  },
  {
   "cell_type": "code",
   "execution_count": null,
   "id": "5eb8bbfb-f440-4157-9396-1db91bbc7e96",
   "metadata": {},
   "outputs": [],
   "source": [
    "\n",
    "# Renaming a column\n",
    "# To rename a column, use the `rename` method and specify the old and new column names\n",
    "df.rename(columns={'old_column_name': 'new_column_name'}, inplace=True)\n",
    "\n",
    "# Explanation of `inplace`:\n",
    "# The `inplace` parameter in pandas methods determines whether the operation is performed on the original DataFrame or if a new DataFrame is returned. \n",
    "# When `inplace=True`, the changes are applied directly to the original DataFrame, and nothing is returned. This can be useful to save memory and avoid creating additional copies of the DataFrame.\n",
    "# If `inplace=False` (the default), the method returns a new DataFrame with the changes applied, leaving the original DataFrame unchanged. \n",
    "# Use `inplace=True` when you want to modify the existing DataFrame directly without needing a new copy.\n"
   ]
  },
  {
   "cell_type": "code",
   "execution_count": null,
   "id": "ba0305b2-ba8a-455a-abe7-67ba1bc3f488",
   "metadata": {},
   "outputs": [],
   "source": [
    "# Converting a date column from string to datetime\n",
    "# Assume the date column is named 'date_column' and is currently in string format\n",
    "# If the date format is not standard, specify the format explicitly\n",
    "# Example formats: 'YYYY-MM-DD', 'DD/MM/YYYY', 'MM-DD-YYYY', 'YYYY/MM/DD HH:MM:SS', etc.\n",
    "df['datetime'] = pd.to_datetime(df['date_column'], format='%Y-%m-%d')\n",
    "\n",
    "# If the date column has multiple formats, use `errors='coerce'` to handle invalid parsing\n",
    "# df['datetime'] = pd.to_datetime(df['date_column'], errors='coerce')\n"
   ]
  },
  {
   "cell_type": "code",
   "execution_count": null,
   "id": "9d1ff9b8-b492-471a-803a-cae05ea7b1fe",
   "metadata": {},
   "outputs": [],
   "source": [
    "# Check the type of a column\n",
    "print(df['number_column'].dtype)\n",
    "\n",
    "# Convert a column containing numbers in string format to a numerical type\n",
    "# Use `errors='coerce'` to handle invalid parsing\n",
    "df['number_column'] = pd.to_numeric(df['number_column'], errors='coerce')\n",
    "\n",
    "# Display the type of the column after conversion\n",
    "print(df['number_column'].dtype)"
   ]
  }
 ],
 "metadata": {
  "kernelspec": {
   "display_name": "Python 3 (ipykernel)",
   "language": "python",
   "name": "python3"
  },
  "language_info": {
   "codemirror_mode": {
    "name": "ipython",
    "version": 3
   },
   "file_extension": ".py",
   "mimetype": "text/x-python",
   "name": "python",
   "nbconvert_exporter": "python",
   "pygments_lexer": "ipython3",
   "version": "3.9.2"
  }
 },
 "nbformat": 4,
 "nbformat_minor": 5
}
