{
 "cells": [
  {
   "cell_type": "markdown",
   "id": "f0741b1a-ff2e-4784-bf46-8814cf87d799",
   "metadata": {},
   "source": [
    "<a target=\"_blank\" href=\"https://colab.research.google.com/github/mehdiheris/UrbanDataAnalytics/blob/main/notebooks/Start_Python_Session_1.ipynb\">\n",
    "  <img src=\"https://colab.research.google.com/assets/colab-badge.svg\" alt=\"Open In Colab\"/>\n",
    "</a>"
   ]
  },
  {
   "cell_type": "markdown",
   "id": "7e65c5f6",
   "metadata": {},
   "source": [
    "# Python Programming for City Planners: Study Guide"
   ]
  },
  {
   "cell_type": "markdown",
   "id": "3b10eb99",
   "metadata": {},
   "source": [
    "## 1. Basic Syntax"
   ]
  },
  {
   "cell_type": "markdown",
   "id": "1db8330f",
   "metadata": {},
   "source": [
    "### Variables and Data Types\n",
    "Variables are fundamental in programming as they act as storage containers for data. In city planning, a variable could represent anything from the population of a borough in New York City to the budget allocated for public parks in Central Park. By using variables, you can store, retrieve, and manipulate data efficiently. For example, you might have a variable that holds the number of people in Manhattan, and another that holds the area of Queens. These variables allow you to perform calculations, such as determining the population density of Brooklyn."
   ]
  },
  {
   "cell_type": "code",
   "execution_count": null,
   "id": "9c4d0327",
   "metadata": {},
   "outputs": [],
   "source": [
    "population = 8399000     # Integer (a whole number representing the population of NYC)\n",
    "city_name = \"New York City\"  # String (a series of characters representing the city's name)\n",
    "area = 468.9           # Float (a number with a decimal point representing the area in square miles)\n",
    "is_urban = True         # Boolean (True or False representing whether the area is urban)"
   ]
  },
  {
   "cell_type": "markdown",
   "id": "b877f4e6",
   "metadata": {},
   "source": [
    "### Data Types\n",
    "Data types define the kind of data a variable can hold. Here are some common ones:\n",
    "- **Integers (`int`)**: Whole numbers like the number of subway lines in NYC.\n",
    "- **Floats (`float`)**: Numbers with decimals like the average daily ridership of the MTA.\n",
    "- **Strings (`str`)**: Sequences of characters, like the name of a borough.\n",
    "- **Booleans (`bool`)**: True or False values, like whether a public project is completed."
   ]
  },
  {
   "cell_type": "markdown",
   "id": "d1f8a3e2",
   "metadata": {},
   "source": [
    "### Comments\n",
    "Single-line comments start with `#` and are used to leave notes or explanations in your code. They are ignored by the Python interpreter."
   ]
  },
  {
   "cell_type": "code",
   "execution_count": null,
   "id": "98f1beec",
   "metadata": {},
   "outputs": [],
   "source": [
    "# This is a comment\n",
    "print(\"City Planning for NYC\")  # This prints a message about city planning"
   ]
  },
  {
   "cell_type": "markdown",
   "id": "e7de4fe8",
   "metadata": {},
   "source": [
    "Multi-line comments use triple quotes (`\"\"\"` or `'''`) for longer notes or explanations."
   ]
  },
  {
   "cell_type": "code",
   "execution_count": null,
   "id": "26a2b623",
   "metadata": {},
   "outputs": [],
   "source": [
    "\"\"\"\n",
    "This is a\n",
    "multi-line comment\n",
    "explaining the code.\n",
    "\"\"\""
   ]
  },
  {
   "cell_type": "markdown",
   "id": "f2beba8a",
   "metadata": {},
   "source": [
    "### Basic Input and Output\n",
    "Use `input()` to get information from the user, like asking for the name of a neighborhood in NYC. The input function always returns the input as a string."
   ]
  },
  {
   "cell_type": "code",
   "execution_count": null,
   "id": "66c3f2ed",
   "metadata": {},
   "outputs": [],
   "source": [
    "neighborhood = input(\"Enter the neighborhood name: \")\n",
    "print(\"Neighborhood:\", neighborhood)"
   ]
  },
  {
   "cell_type": "markdown",
   "id": "67dfd39f",
   "metadata": {},
   "source": [
    "Use `print()` to display information. Think of it as presenting data or results."
   ]
  },
  {
   "cell_type": "code",
   "execution_count": null,
   "id": "216c102f",
   "metadata": {},
   "outputs": [],
   "source": [
    "population = 8399000\n",
    "print(\"Population of NYC:\", population)"
   ]
  },
  {
   "cell_type": "markdown",
   "id": "d339ebf8",
   "metadata": {},
   "source": [
    "Printing Multiple Items"
   ]
  },
  {
   "cell_type": "code",
   "execution_count": null,
   "id": "0c463477",
   "metadata": {},
   "outputs": [],
   "source": [
    "borough_name = \"Manhattan\"\n",
    "area = 22.7\n",
    "print(\"Borough:\", borough_name, \"Area:\", area)  # Output: Borough: Manhattan Area: 22.7"
   ]
  },
  {
   "cell_type": "markdown",
   "id": "967f30ca",
   "metadata": {},
   "source": [
    "Using `sep` parameter: You can change the separator between items."
   ]
  },
  {
   "cell_type": "code",
   "execution_count": null,
   "id": "97046d00",
   "metadata": {},
   "outputs": [],
   "source": [
    "print(\"Borough\", \"Area\", sep=\" - \")  # Output: Borough - Area"
   ]
  },
  {
   "cell_type": "markdown",
   "id": "125d71da",
   "metadata": {},
   "source": [
    "Using `end` parameter: You can change what is printed at the end of the line (default is a newline character)."
   ]
  },
  {
   "cell_type": "code",
   "execution_count": null,
   "id": "b3c047b9",
   "metadata": {},
   "outputs": [],
   "source": [
    "print(\"Welcome to\", end=\" \")\n",
    "print(\"NYC!\")  # Output: Welcome to NYC!"
   ]
  },
  {
   "cell_type": "markdown",
   "id": "ab8a6b5b",
   "metadata": {},
   "source": [
    "## 2. Control Structures"
   ]
  },
  {
   "cell_type": "markdown",
   "id": "32e613ff",
   "metadata": {},
   "source": [
    "### Conditional Statements (if, elif, else)\n",
    "Conditional statements allow you to make decisions in your code based on specific conditions."
   ]
  },
  {
   "cell_type": "code",
   "execution_count": null,
   "id": "d7afdb23",
   "metadata": {},
   "outputs": [],
   "source": [
    "population_density = 27000  # people per square mile in Manhattan\n",
    "\n",
    "if population_density > 30000:\n",
    "    print(\"High density: Increase green spaces.\")\n",
    "elif population_density < 10000:\n",
    "    print(\"Low density: Promote development.\")\n",
    "else:\n",
    "    print(\"Moderate density: Maintain current infrastructure.\")"
   ]
  },
  {
   "cell_type": "markdown",
   "id": "9cfef57a",
   "metadata": {},
   "source": [
    "More Examples"
   ]
  },
  {
   "cell_type": "code",
   "execution_count": null,
   "id": "e960c6fb",
   "metadata": {},
   "outputs": [],
   "source": [
    "temperature = 85  # degrees Fahrenheit\n",
    "\n",
    "if temperature > 90:\n",
    "    print(\"It's hot outside! Consider heat mitigation strategies.\")\n",
    "elif temperature < 40:\n",
    "    print(\"It's cold outside! Plan for winter shelters.\")\n",
    "else:\n",
    "    print(\"The weather is nice! Perfect for outdoor activities.\")"
   ]
  },
  {
   "cell_type": "code",
   "execution_count": null,
   "id": "39d31eeb",
   "metadata": {},
   "outputs": [],
   "source": [
    "score = 85  # performance score\n",
    "\n",
    "if score >= 90:\n",
    "    print(\"Excellent performance! Award recognition.\")\n",
    "elif score >= 80:\n",
    "    print(\"Good performance! Provide incentives.\")\n",
    "elif score >= 70:\n",
    "    print(\"Average performance. Monitor progress.\")\n",
    "elif score >= 60:\n",
    "    print(\"Below average. Provide support and training.\")\n",
    "else:\n",
    "    print(\"Poor performance. Reevaluate strategies.\")"
   ]
  },
  {
   "cell_type": "markdown",
   "id": "fdeec596",
   "metadata": {},
   "source": [
    "### Logical Operators (and, or, not)\n",
    "Logical operators are used to combine conditional statements. They are useful in making complex decisions in your code."
   ]
  },
  {
   "cell_type": "markdown",
   "id": "5a350601",
   "metadata": {},
   "source": [
    "**`and` Operator:** The `and` operator returns `True` if both statements are true.\n",
    "```python\n",
    "if condition1 and condition2:\n",
    "    # code to execute if both conditions are true\n",
    "```\n",
    "\n",
    "**`or` Operator:** The `or` operator returns `True` if at least one of the statements is true.\n",
    "```python\n",
    "if condition1 or condition2:\n",
    "    # code to execute if at least one condition is true\n",
    "```\n",
    "\n",
    "**`not` Operator:** The `not` operator inverts the value of a condition.\n",
    "```python\n",
    "if not condition:\n",
    "    # code to execute if the condition is false\n",
    "```\n",
    "\n",
    "### Using Logical Operators in If-Else Structures\n",
    "Combining logical operators with if-else structures can help you create more complex and precise conditional statements."
   ]
  },
  {
   "cell_type": "code",
   "execution_count": null,
   "id": "9f079bb0",
   "metadata": {},
   "outputs": [],
   "source": [
    "temperature = 85  # degrees Fahrenheit\n",
    "humidity = 70  # percentage\n",
    "\n",
    "if temperature > 80 and humidity > 60:\n",
    "    print(\"It's hot and humid outside! Consider cooling strategies.\")\n",
    "elif temperature > 80 or humidity > 60:\n",
    "    print(\"It's either hot or humid outside. Stay hydrated!\")\n",
    "else:\n",
    "    print(\"The weather is comfortable.\")"
   ]
  },
  {
   "cell_type": "code",
   "execution_count": null,
   "id": "4fcaceb0",
   "metadata": {},
   "outputs": [],
   "source": [
    "has_parking = True\n",
    "is_accessible = False\n",
    "\n",
    "if has_parking and is_accessible:\n",
    "    print(\"The location is convenient for all visitors.\")\n",
    "elif not has_parking and not is_accessible:\n",
    "    print(\"The location is neither convenient nor accessible.\")\n",
    "else:\n",
    "    print(\"The location has some conveniences but not all.\")"
   ]
  },
  {
   "cell_type": "markdown",
   "id": "2747b48b",
   "metadata": {},
   "source": [
    "## 3. Functions"
   ]
  },
  {
   "cell_type": "markdown",
   "id": "5ac32a20",
   "metadata": {},
   "source": [
    "### Defining Functions\n",
    "Functions are blocks of code that perform a specific task. They help you reuse code and make your programs more organized. In city planning, you might use functions to calculate areas, budgets, or population densities. Functions promote modularity and readability in your code.\n",
    "\n",
    "Functions allow you to break down complex problems into smaller, more manageable pieces. By defining a function, you create a reusable block of code that can be called whenever needed, reducing redundancy and making your code more maintainable. \n",
    "\n",
    "For example, you might need to calculate the population density of multiple neighborhoods. Instead of writing the calculation code multiple times, you can define a function and call it for each neighborhood."
   ]
  },
  {
   "cell_type": "code",
   "execution_count": null,
   "id": "f4df975c",
   "metadata": {},
   "outputs": [],
   "source": [
    "def calculate_density(population, area):\n",
    "    return population / area\n",
    "\n",
    "density = calculate_density(8399000, 468.9)\n",
    "print(\"Population Density:\", density)"
   ]
  },
  {
   "cell_type": "markdown",
   "id": "6ad4e0a3",
   "metadata": {},
   "source": [
    "### Function Parameters and Arguments\n",
    "Parameters are the placeholders in the function definition, and arguments are the actual values you pass to the function when you call it. This distinction allows functions to be flexible and reusable with different input values."
   ]
  },
  {
   "cell_type": "code",
   "execution_count": null,
   "id": "ee46313d",
   "metadata": {},
   "outputs": [],
   "source": [
    "def add_costs(cost1, cost2):\n",
    "    return cost1 + cost2\n",
    "\n",
    "total_cost = add_costs(1000000, 1500000)\n",
    "print(\"Total Cost:\", total_cost)  # Output: 2500000"
   ]
  },
  {
   "cell_type": "markdown",
   "id": "22edf973",
   "metadata": {},
   "source": [
    "### Return Statement\n",
    "The `return` statement is like a boomerang. It sends a value back to where the function was called. This allows you to get results from your functions and use them in other parts of your code."
   ]
  },
  {
   "cell_type": "code",
   "execution_count": null,
   "id": "c949c906",
   "metadata": {},
   "outputs": [],
   "source": [
    "def calculate_area(length, width):\n",
    "    return length * width\n",
    "\n",
    "area = calculate_area(50, 30)\n",
    "print(\"Area:\", area)  # Output: 1500"
   ]
  },
  {
   "cell_type": "markdown",
   "id": "3c94d5aa",
   "metadata": {},
   "source": [
    "### Why Use Functions?\n",
    "Using functions in programming offers several advantages:\n",
    "- **Reusability:** Write once, use multiple times.\n",
    "- **Modularity:** Break down complex tasks into simpler, more manageable parts.\n",
    "- **Maintainability:** Easier to update and fix issues in your code.\n",
    "- **Readability:** Makes your code more organized and easier to understand."
   ]
  },
  {
   "cell_type": "markdown",
   "id": "25fda12f",
   "metadata": {},
   "source": [
    "### More Examples of Functions\n",
    "Calculating the total cost of multiple projects:"
   ]
  },
  {
   "cell_type": "code",
   "execution_count": null,
   "id": "46bf1922",
   "metadata": {},
   "outputs": [],
   "source": [
    "def total_project_costs(*costs):\n",
    "    total = 0\n",
    "    for cost in costs:\n",
    "        total += cost\n",
    "    return total\n",
    "\n",
    "total_cost = total_project_costs(1000000, 1500000, 2000000)\n",
    "print(\"Total Project Costs:\", total_cost)  # Output: 4500000"
   ]
  },
  {
   "cell_type": "markdown",
   "id": "ac592615",
   "metadata": {},
   "source": [
    "Function to check if a neighborhood is above a certain population density:"
   ]
  },
  {
   "cell_type": "code",
   "execution_count": null,
   "id": "cf6ad2f5",
   "metadata": {},
   "outputs": [],
   "source": [
    "def is_high_density(population, area, threshold=10000):\n",
    "    density = population / area\n",
    "    return density > threshold\n",
    "\n",
    "result = is_high_density(50000, 5)\n",
    "print(\"Is high density:\", result)  # Output: True"
   ]
  },
  {
   "cell_type": "markdown",
   "id": "3cdca65b",
   "metadata": {},
   "source": [
    "Function to display information about a neighborhood:"
   ]
  },
  {
   "cell_type": "code",
   "execution_count": null,
   "id": "a63e49ec",
   "metadata": {},
   "outputs": [],
   "source": [
    "def display_neighborhood_info(name, population, area):\n",
    "    print(f\"Neighborhood: {name}\")\n",
    "    print(f\"Population: {population}\")\n",
    "    print(f\"Area: {area} square miles\")\n",
    "    print(f\"Population Density: {calculate_density(population, area)} people per square mile\")\n",
    "\n",
    "display_neighborhood_info(\"Greenwich Village\", 30000, 0.8)"
   ]
  },
  {
   "cell_type": "markdown",
   "id": "7c074d75",
   "metadata": {},
   "source": [
    "## 4. Data Structures"
   ]
  },
  {
   "cell_type": "markdown",
   "id": "c5b371aa",
   "metadata": {},
   "source": [
    "### Lists\n",
    "Ordered, mutable collection of items. Think of them as lists of projects, neighborhoods, or budget items."
   ]
  },
  {
   "cell_type": "code",
   "execution_count": null,
   "id": "a97d7253",
   "metadata": {},
   "outputs": [],
   "source": [
    "projects = [\"Park Renovation\", \"New Library\", \"Road Expansion\"]\n",
    "print(projects)  # [\"Park Renovation\", \"New Library\", \"Road Expansion\"]"
   ]
  },
  {
   "cell_type": "markdown",
   "id": "fd1e941b",
   "metadata": {},
   "source": [
    "Basic Functions"
   ]
  },
  {
   "cell_type": "code",
   "execution_count": null,
   "id": "2cfd830e",
   "metadata": {},
   "outputs": [],
   "source": [
    "neighborhoods = [\"Downtown\", \"Uptown\", \"Suburbs\"]\n",
    "print(len(neighborhoods))  # 3"
   ]
  },
  {
   "cell_type": "markdown",
   "id": "f2b61ed9",
   "metadata": {},
   "source": [
    "Indexing in Lists"
   ]
  },
  {
   "cell_type": "code",
   "execution_count": null,
   "id": "1dd6504f",
   "metadata": {},
   "outputs": [],
   "source": [
    "print(neighborhoods[0])  # \"Downtown\"\n",
    "print(neighborhoods[2])  # \"Suburbs\""
   ]
  },
  {
   "cell_type": "markdown",
   "id": "29397db5",
   "metadata": {},
   "source": [
    "Modifying Lists"
   ]
  },
  {
   "cell_type": "code",
   "execution_count": null,
   "id": "91487251",
   "metadata": {},
   "outputs": [],
   "source": [
    "# append(): Adds an item to the end of the list.\n",
    "fruits = [\"apple\", \"banana\", \"cherry\"]\n",
    "fruits.append(\"orange\")\n",
    "print(fruits)  # [\"apple\", \"banana\", \"cherry\", \"orange\"]\n",
    "\n",
    "# insert(): Inserts an item at a specified position.\n",
    "fruits.insert(1, \"blueberry\")\n",
    "print(fruits)  # [\"apple\", \"blueberry\", \"banana\", \"cherry\", \"orange\"]\n",
    "\n",
    "# remove(): Removes the first occurrence of an item.\n",
    "fruits.remove(\"banana\")\n",
    "print(fruits)  # [\"apple\", \"blueberry\", \"cherry\", \"orange\"]\n",
    "\n",
    "# pop(): Removes and returns the item at the specified position (default is the last item).\n",
    "fruit = fruits.pop()\n",
    "print(fruit)  # \"orange\"\n",
    "print(fruits)  # [\"apple\", \"blueberry\", \"cherry\"]"
   ]
  },
  {
   "cell_type": "markdown",
   "id": "e5283be2",
   "metadata": {},
   "source": [
    "Modifying Lists in Loops"
   ]
  },
  {
   "cell_type": "code",
   "execution_count": null,
   "id": "7c457209",
   "metadata": {},
   "outputs": [],
   "source": [
    "project_statuses = [\"ongoing\", \"completed\", \"ongoing\", \"not started\"]\n",
    "for i in range(len(project_statuses)):\n",
    "    if project_statuses[i] == \"ongoing\":\n",
    "        project_statuses[i] = \"completed\"\n",
    "print(project_statuses)  # [\"completed\", \"completed\", \"completed\", \"not started\"]"
   ]
  },
  {
   "cell_type": "markdown",
   "id": "95fa9f37",
   "metadata": {},
   "source": [
    "### Tuples\n",
    "Ordered, immutable collection of items. Imagine them as a sealed box that you can’t change once packed."
   ]
  },
  {
   "cell_type": "code",
   "execution_count": null,
   "id": "07cb4c96",
   "metadata": {},
   "outputs": [],
   "source": [
    "coordinates = (40.7128, -74.0060)\n",
    "print(coordinates)  # (40.7128, -74.0060)"
   ]
  },
  {
   "cell_type": "markdown",
   "id": "0a5fb1a2",
   "metadata": {},
   "source": [
    "Difference Between Lists and Tuples\n",
    "- **Lists** are mutable (you can change them), while **tuples** are immutable (you can’t change them once they are created).\n",
    "- Use **lists** when you need a collection of items that can change over time, like a list of projects.\n",
    "- Use **tuples** when you need a collection of items that should not change, like the coordinates of a point."
   ]
  },
  {
   "cell_type": "markdown",
   "id": "36a74775",
   "metadata": {},
   "source": [
    "Indexing in Tuples"
   ]
  },
  {
   "cell_type": "code",
   "execution_count": null,
   "id": "7e1cea58",
   "metadata": {},
   "outputs": [],
   "source": [
    "print(coordinates[0])  # 40.7128\n",
    "print(coordinates[1])  # -74.0060"
   ]
  },
  {
   "cell_type": "markdown",
   "id": "920ac1a6",
   "metadata": {},
   "source": [
    "### Dictionaries\n",
    "Collection of key-value pairs. It’s like a real dictionary where you look up a word (key) and find its meaning (value)."
   ]
  },
  {
   "cell_type": "code",
   "execution_count": null,
   "id": "5a5967e9",
   "metadata": {},
   "outputs": [],
   "source": [
    "person = {\"name\": \"Alice\", \"age\": 25}\n",
    "person[\"age\"] = 26\n",
    "print(person)  # {\"name\": \"Alice\", \"age\": 26}"
   ]
  },
  {
   "cell_type": "markdown",
   "id": "4d06915f",
   "metadata": {},
   "source": [
    "Getting Keys and Values"
   ]
  },
  {
   "cell_type": "code",
   "execution_count": null,
   "id": "fa087f9b",
   "metadata": {},
   "outputs": [],
   "source": [
    "print(person.keys())   # dict_keys([\"name\", \"age\"])\n",
    "print(person.values()) # dict_values([\"Alice\", 26])\n",
    "print(person.items())  # dict_items([(\"name\", \"Alice\"), (\"age\", 26)])"
   ]
  },
  {
   "cell_type": "markdown",
   "id": "4ccd71d6",
   "metadata": {},
   "source": [
    "Indexing in Dictionaries"
   ]
  },
  {
   "cell_type": "code",
   "execution_count": null,
   "id": "4f99e08a",
   "metadata": {},
   "outputs": [],
   "source": [
    "city_data = {\"population\": 8399000, \"area\": 468.9, \"name\": \"New York City\"}\n",
    "print(city_data[\"population\"])  # 8399000\n",
    "print(city_data[\"name\"])  # New York City"
   ]
  },
  {
   "cell_type": "markdown",
   "id": "82c9c53b",
   "metadata": {},
   "source": [
    "Modifying Dictionaries in Loops"
   ]
  },
  {
   "cell_type": "code",
   "execution_count": null,
   "id": "979180fe",
   "metadata": {},
   "outputs": [],
   "source": [
    "district_populations = {\"Downtown\": 50000, \"Uptown\": 75000, \"Suburbs\": 100000}\n",
    "for district in district_populations:\n",
    "    district_populations[district] *= 1.05  # Increase population by 5%\n",
    "print(district_populations)  # {'Downtown': 52500.0, 'Uptown': 78750.0, 'Suburbs': 105000.0}"
   ]
  }
 ],
 "metadata": {
  "kernelspec": {
   "display_name": "Python 3 (ipykernel)",
   "language": "python",
   "name": "python3"
  },
  "language_info": {
   "codemirror_mode": {
    "name": "ipython",
    "version": 3
   },
   "file_extension": ".py",
   "mimetype": "text/x-python",
   "name": "python",
   "nbconvert_exporter": "python",
   "pygments_lexer": "ipython3",
   "version": "3.9.2"
  }
 },
 "nbformat": 4,
 "nbformat_minor": 5
}
