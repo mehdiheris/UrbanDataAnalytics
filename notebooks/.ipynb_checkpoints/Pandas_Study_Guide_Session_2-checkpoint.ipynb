{
 "cells": [
  {
   "cell_type": "code",
   "execution_count": null,
   "id": "b1650080-0f84-4961-883a-910c9949f26b",
   "metadata": {},
   "outputs": [],
   "source": [
    "from google.colab import drive\n",
    "\n",
    "# Mount Google Drive\n",
    "drive.mount('/content/drive')\n",
    "\n",
    "# Navigate to the desired directory\n",
    "import os\n",
    "os.chdir('/content/drive/My Drive/')\n",
    "\n",
    "# Verify the current working directory\n",
    "!pwd\n"
   ]
  },
  {
   "cell_type": "markdown",
   "id": "c2c548ba",
   "metadata": {},
   "source": [
    "### Pandas Study Guide"
   ]
  },
  {
   "cell_type": "markdown",
   "id": "ac07f416",
   "metadata": {},
   "source": [
    "### Introduction to Pandas DataFrame\n",
    "\n",
    "A DataFrame is a two-dimensional, size-mutable, and potentially heterogeneous tabular data structure with labeled axes (rows and columns). It is similar to a table in a database or an Excel spreadsheet. Each column in a DataFrame can be of a different data type (e.g., integers, floats, strings)."
   ]
  },
  {
   "cell_type": "markdown",
   "id": "49420dbe",
   "metadata": {},
   "source": [
    "### Creating a Simple DataFrame\n",
    "\n",
    "You can create a DataFrame by passing a dictionary of lists or a list of dictionaries to the `pd.DataFrame()` function."
   ]
  },
  {
   "cell_type": "code",
   "execution_count": null,
   "id": "33ea793e",
   "metadata": {},
   "outputs": [],
   "source": [
    "import pandas as pd\n",
    "\n",
    "# Creating a simple DataFrame using a dictionary of lists\n",
    "data = {\n",
    "    'Name': ['Alice', 'Bob', 'Charlie', 'David', 'Eva'],\n",
    "    'Age': [24, 27, 22, 32, 29],\n",
    "    'City': ['New York', 'Los Angeles', 'Chicago', 'Houston', 'Phoenix']\n",
    "}\n",
    "\n",
    "df = pd.DataFrame(data)\n",
    "df"
   ]
  },
  {
   "cell_type": "markdown",
   "id": "4dfe9bc9",
   "metadata": {},
   "source": [
    "### Reading a CSV File\n",
    "\n",
    "You can read a CSV file into a DataFrame using the `pd.read_csv()` function. Let's read the CSV file that was uploaded previously."
   ]
  },
  {
   "cell_type": "code",
   "execution_count": null,
   "id": "779fd0a5",
   "metadata": {},
   "outputs": [],
   "source": [
    "file_path = '/mnt/data/NYC_Census_Tracts_AddedCols.csv'\n",
    "df = pd.read_csv(file_path)\n",
    "\n",
    "df.head()"
   ]
  },
  {
   "cell_type": "markdown",
   "id": "08028cd9",
   "metadata": {},
   "source": [
    "### Describing the DataFrame\n",
    "\n",
    "The `info()` method provides a concise summary of the DataFrame, including the number of non-null entries, column names, data types, and memory usage."
   ]
  },
  {
   "cell_type": "code",
   "execution_count": null,
   "id": "ab16b13f-4acb-4ad1-be75-e9e38bc8cc40",
   "metadata": {},
   "outputs": [],
   "source": [
    "# see the five top rows\n",
    "df.head(5)"
   ]
  },
  {
   "cell_type": "code",
   "execution_count": null,
   "id": "5ac2a335-8af8-4fbc-8fcd-7b3feeed687a",
   "metadata": {},
   "outputs": [],
   "source": [
    "# see the last five rows\n",
    "df.tail(5)"
   ]
  },
  {
   "cell_type": "code",
   "execution_count": null,
   "id": "cdc0d8c6",
   "metadata": {},
   "outputs": [],
   "source": [
    "df.info()"
   ]
  },
  {
   "cell_type": "markdown",
   "id": "3089c1e2",
   "metadata": {},
   "source": [
    "### Viewing Values of One Column\n",
    "\n",
    "You can access a single column of a DataFrame using the column name. For example, to view the values of the `Population_2000` column:"
   ]
  },
  {
   "cell_type": "code",
   "execution_count": null,
   "id": "33bf7af3",
   "metadata": {},
   "outputs": [],
   "source": [
    "population_2000 = df['Population_2000']\n",
    "population_2000"
   ]
  },
  {
   "cell_type": "markdown",
   "id": "6e0ecb39",
   "metadata": {},
   "source": [
    "### Statistical Summary of One Column\n",
    "\n",
    "The `describe()` method provides a statistical summary of a DataFrame column, including count, mean, standard deviation, minimum, maximum, and quartile values."
   ]
  },
  {
   "cell_type": "code",
   "execution_count": null,
   "id": "ec360950",
   "metadata": {},
   "outputs": [],
   "source": [
    "population_2000.describe()"
   ]
  },
  {
   "cell_type": "markdown",
   "id": "badb3272",
   "metadata": {},
   "source": [
    "### Basic Statistical Functions\n",
    "\n",
    "Pandas provides several built-in functions for computing basic statistics on DataFrame columns, such as sum, mean, median, standard deviation, minimum, and maximum."
   ]
  },
  {
   "cell_type": "code",
   "execution_count": null,
   "id": "d81d6351",
   "metadata": {},
   "outputs": [],
   "source": [
    "population_sum = population_2000.sum()\n",
    "print(f\"Sum: {population_sum}\")\n",
    "\n",
    "population_mean = population_2000.mean()\n",
    "print(f\"Mean: {population_mean}\")\n",
    "\n",
    "population_median = population_2000.median()\n",
    "print(f\"Median: {population_median}\")\n",
    "\n",
    "population_std = population_2000.std()\n",
    "print(f\"Standard Deviation: {population_std}\")\n",
    "\n",
    "population_min = population_2000.min()\n",
    "print(f\"Minimum: {population_min}\")\n",
    "\n",
    "population_max = population_2000.max()\n",
    "print(f\"Maximum: {population_max}\")"
   ]
  },
  {
   "cell_type": "markdown",
   "id": "6e66bbe7",
   "metadata": {},
   "source": [
    "### Pandas Study Guide: Subsetting and Adding Columns"
   ]
  },
  {
   "cell_type": "markdown",
   "id": "7b073f89",
   "metadata": {},
   "source": [
    "### Getting a Subset of Columns\n",
    "\n",
    "You can create a new DataFrame by selecting a subset of columns from an existing DataFrame. This is useful when you only need to work with certain columns of your data."
   ]
  },
  {
   "cell_type": "code",
   "execution_count": null,
   "id": "e2f5e8e1",
   "metadata": {},
   "outputs": [],
   "source": [
    "subset_df = df[['GISJOIN', 'Population_2000', 'NH_White_2000', 'NH_Black_2000']]\n",
    "subset_df.head()"
   ]
  },
  {
   "cell_type": "markdown",
   "id": "2f07b2c1",
   "metadata": {},
   "source": [
    "### Adding a New Column\n",
    "\n",
    "You can add a new column to a DataFrame by simply assigning values to it. Often, the values of the new column are derived from existing columns."
   ]
  },
  {
   "cell_type": "markdown",
   "id": "ea11fb0c",
   "metadata": {},
   "source": [
    "### Example: Calculating a New Column\n",
    "\n",
    "Suppose we want to calculate the percentage of the Non-Hispanic White population in 2000 relative to the total population in 2000. We can do this by dividing the `NH_White_2000` column by the `Population_2000` column and multiplying by 100."
   ]
  },
  {
   "cell_type": "code",
   "execution_count": null,
   "id": "fa410194",
   "metadata": {},
   "outputs": [],
   "source": [
    "df['Pct_NH_White_2000'] = (df['NH_White_2000'] / df['Population_2000']) * 100\n",
    "df[['GISJOIN', 'Population_2000', 'NH_White_2000', 'Pct_NH_White_2000']]"
   ]
  },
  {
   "cell_type": "code",
   "execution_count": null,
   "id": "ae0b59e1-e239-46d0-b6e9-c4584f7f5e1e",
   "metadata": {},
   "outputs": [],
   "source": [
    "df_subset = df[['GISJOIN', 'Population_2000', 'NH_White_2000', 'Pct_NH_White_2000']]\n",
    "df_subset.head()"
   ]
  },
  {
   "cell_type": "markdown",
   "id": "8fd5c5fc",
   "metadata": {},
   "source": [
    "## Introduction to loc\n",
    "The loc method is used to access a group of rows and columns by labels or a boolean array. It is primarily used for label-based indexing.\n",
    "\n"
   ]
  },
  {
   "cell_type": "code",
   "execution_count": 7,
   "id": "fe39b0db-2a16-4f05-9005-e5328c254d0e",
   "metadata": {},
   "outputs": [
    {
     "data": {
      "text/html": [
       "<div>\n",
       "<style scoped>\n",
       "    .dataframe tbody tr th:only-of-type {\n",
       "        vertical-align: middle;\n",
       "    }\n",
       "\n",
       "    .dataframe tbody tr th {\n",
       "        vertical-align: top;\n",
       "    }\n",
       "\n",
       "    .dataframe thead th {\n",
       "        text-align: right;\n",
       "    }\n",
       "</style>\n",
       "<table border=\"1\" class=\"dataframe\">\n",
       "  <thead>\n",
       "    <tr style=\"text-align: right;\">\n",
       "      <th></th>\n",
       "      <th>Name</th>\n",
       "      <th>Age</th>\n",
       "      <th>City</th>\n",
       "      <th>Score</th>\n",
       "    </tr>\n",
       "  </thead>\n",
       "  <tbody>\n",
       "    <tr>\n",
       "      <th>0</th>\n",
       "      <td>Alice</td>\n",
       "      <td>24</td>\n",
       "      <td>New York</td>\n",
       "      <td>85</td>\n",
       "    </tr>\n",
       "    <tr>\n",
       "      <th>1</th>\n",
       "      <td>Bob</td>\n",
       "      <td>27</td>\n",
       "      <td>Los Angeles</td>\n",
       "      <td>90</td>\n",
       "    </tr>\n",
       "    <tr>\n",
       "      <th>2</th>\n",
       "      <td>Charlie</td>\n",
       "      <td>22</td>\n",
       "      <td>Chicago</td>\n",
       "      <td>88</td>\n",
       "    </tr>\n",
       "    <tr>\n",
       "      <th>3</th>\n",
       "      <td>David</td>\n",
       "      <td>32</td>\n",
       "      <td>Houston</td>\n",
       "      <td>92</td>\n",
       "    </tr>\n",
       "    <tr>\n",
       "      <th>4</th>\n",
       "      <td>Eva</td>\n",
       "      <td>29</td>\n",
       "      <td>Phoenix</td>\n",
       "      <td>79</td>\n",
       "    </tr>\n",
       "  </tbody>\n",
       "</table>\n",
       "</div>"
      ],
      "text/plain": [
       "      Name  Age         City  Score\n",
       "0    Alice   24     New York     85\n",
       "1      Bob   27  Los Angeles     90\n",
       "2  Charlie   22      Chicago     88\n",
       "3    David   32      Houston     92\n",
       "4      Eva   29      Phoenix     79"
      ]
     },
     "execution_count": 7,
     "metadata": {},
     "output_type": "execute_result"
    }
   ],
   "source": [
    "import pandas as pd\n",
    "\n",
    "# Creating a sample DataFrame\n",
    "data = {\n",
    "    'Name': ['Alice', 'Bob', 'Charlie', 'David', 'Eva'],\n",
    "    'Age': [24, 27, 22, 32, 29],\n",
    "    'City': ['New York', 'Los Angeles', 'Chicago', 'Houston', 'Phoenix'],\n",
    "    'Score': [85, 90, 88, 92, 79]\n",
    "}\n",
    "\n",
    "df1 = pd.DataFrame(data)\n",
    "df1\n"
   ]
  },
  {
   "cell_type": "markdown",
   "id": "a7203370-1ab1-4300-8784-5210d79561cc",
   "metadata": {},
   "source": [
    "Selecting Rows Based on a Single Condition\n",
    "You can use the loc method to select rows based on a single condition. For example, to select rows where the Age is greater than 25:"
   ]
  },
  {
   "cell_type": "code",
   "execution_count": 6,
   "id": "0f0a359e-2af8-4900-9bf0-7d2a2870b6d3",
   "metadata": {},
   "outputs": [
    {
     "data": {
      "text/html": [
       "<div>\n",
       "<style scoped>\n",
       "    .dataframe tbody tr th:only-of-type {\n",
       "        vertical-align: middle;\n",
       "    }\n",
       "\n",
       "    .dataframe tbody tr th {\n",
       "        vertical-align: top;\n",
       "    }\n",
       "\n",
       "    .dataframe thead th {\n",
       "        text-align: right;\n",
       "    }\n",
       "</style>\n",
       "<table border=\"1\" class=\"dataframe\">\n",
       "  <thead>\n",
       "    <tr style=\"text-align: right;\">\n",
       "      <th></th>\n",
       "      <th>Name</th>\n",
       "      <th>Age</th>\n",
       "      <th>City</th>\n",
       "      <th>Score</th>\n",
       "    </tr>\n",
       "  </thead>\n",
       "  <tbody>\n",
       "    <tr>\n",
       "      <th>1</th>\n",
       "      <td>Bob</td>\n",
       "      <td>27</td>\n",
       "      <td>Los Angeles</td>\n",
       "      <td>90</td>\n",
       "    </tr>\n",
       "    <tr>\n",
       "      <th>3</th>\n",
       "      <td>David</td>\n",
       "      <td>32</td>\n",
       "      <td>Houston</td>\n",
       "      <td>92</td>\n",
       "    </tr>\n",
       "    <tr>\n",
       "      <th>4</th>\n",
       "      <td>Eva</td>\n",
       "      <td>29</td>\n",
       "      <td>Phoenix</td>\n",
       "      <td>79</td>\n",
       "    </tr>\n",
       "  </tbody>\n",
       "</table>\n",
       "</div>"
      ],
      "text/plain": [
       "    Name  Age         City  Score\n",
       "1    Bob   27  Los Angeles     90\n",
       "3  David   32      Houston     92\n",
       "4    Eva   29      Phoenix     79"
      ]
     },
     "execution_count": 6,
     "metadata": {},
     "output_type": "execute_result"
    }
   ],
   "source": [
    "# Selecting rows where Age is greater than 25\n",
    "subset_df = df1.loc[df1['Age'] > 25]\n",
    "(subset_df)\n"
   ]
  },
  {
   "cell_type": "markdown",
   "id": "f609edd3-ef93-4689-9f13-3b14297b2a87",
   "metadata": {},
   "source": [
    "## Combining Conditions with and (&) and or (|)\n",
    "You can combine multiple conditions using the & (and) and | (or) operators. When combining conditions, make sure to enclose each condition in parentheses.\n",
    "### Example: Combining Conditions with and\n",
    "To select rows where the Age is greater than 25 and the Score is greater than 80:"
   ]
  },
  {
   "cell_type": "code",
   "execution_count": 9,
   "id": "428d056d-7988-4fd9-ad9e-77d0e2cf12bc",
   "metadata": {},
   "outputs": [
    {
     "data": {
      "text/html": [
       "<div>\n",
       "<style scoped>\n",
       "    .dataframe tbody tr th:only-of-type {\n",
       "        vertical-align: middle;\n",
       "    }\n",
       "\n",
       "    .dataframe tbody tr th {\n",
       "        vertical-align: top;\n",
       "    }\n",
       "\n",
       "    .dataframe thead th {\n",
       "        text-align: right;\n",
       "    }\n",
       "</style>\n",
       "<table border=\"1\" class=\"dataframe\">\n",
       "  <thead>\n",
       "    <tr style=\"text-align: right;\">\n",
       "      <th></th>\n",
       "      <th>Name</th>\n",
       "      <th>Age</th>\n",
       "      <th>City</th>\n",
       "      <th>Score</th>\n",
       "    </tr>\n",
       "  </thead>\n",
       "  <tbody>\n",
       "    <tr>\n",
       "      <th>1</th>\n",
       "      <td>Bob</td>\n",
       "      <td>27</td>\n",
       "      <td>Los Angeles</td>\n",
       "      <td>90</td>\n",
       "    </tr>\n",
       "    <tr>\n",
       "      <th>3</th>\n",
       "      <td>David</td>\n",
       "      <td>32</td>\n",
       "      <td>Houston</td>\n",
       "      <td>92</td>\n",
       "    </tr>\n",
       "  </tbody>\n",
       "</table>\n",
       "</div>"
      ],
      "text/plain": [
       "    Name  Age         City  Score\n",
       "1    Bob   27  Los Angeles     90\n",
       "3  David   32      Houston     92"
      ]
     },
     "execution_count": 9,
     "metadata": {},
     "output_type": "execute_result"
    }
   ],
   "source": [
    "# Selecting rows where Age is greater than 25 and Score is greater than 80\n",
    "subset_df_and = df1.loc[(df1['Age'] > 25) & (df1['Score'] > 80)]\n",
    "subset_df_and\n"
   ]
  },
  {
   "cell_type": "markdown",
   "id": "6eb32c1a-b462-4e05-89c0-6ec5e0401bb5",
   "metadata": {},
   "source": [
    "## Example: Combining Conditions with or\n",
    "To select rows where the Age is greater than 25 or the Score is greater than 80:"
   ]
  },
  {
   "cell_type": "code",
   "execution_count": 11,
   "id": "54ee7abf-ea19-4318-ab02-301951f2ad9a",
   "metadata": {},
   "outputs": [
    {
     "data": {
      "text/html": [
       "<div>\n",
       "<style scoped>\n",
       "    .dataframe tbody tr th:only-of-type {\n",
       "        vertical-align: middle;\n",
       "    }\n",
       "\n",
       "    .dataframe tbody tr th {\n",
       "        vertical-align: top;\n",
       "    }\n",
       "\n",
       "    .dataframe thead th {\n",
       "        text-align: right;\n",
       "    }\n",
       "</style>\n",
       "<table border=\"1\" class=\"dataframe\">\n",
       "  <thead>\n",
       "    <tr style=\"text-align: right;\">\n",
       "      <th></th>\n",
       "      <th>Name</th>\n",
       "      <th>Age</th>\n",
       "      <th>City</th>\n",
       "      <th>Score</th>\n",
       "    </tr>\n",
       "  </thead>\n",
       "  <tbody>\n",
       "    <tr>\n",
       "      <th>0</th>\n",
       "      <td>Alice</td>\n",
       "      <td>24</td>\n",
       "      <td>New York</td>\n",
       "      <td>85</td>\n",
       "    </tr>\n",
       "    <tr>\n",
       "      <th>1</th>\n",
       "      <td>Bob</td>\n",
       "      <td>27</td>\n",
       "      <td>Los Angeles</td>\n",
       "      <td>90</td>\n",
       "    </tr>\n",
       "    <tr>\n",
       "      <th>2</th>\n",
       "      <td>Charlie</td>\n",
       "      <td>22</td>\n",
       "      <td>Chicago</td>\n",
       "      <td>88</td>\n",
       "    </tr>\n",
       "    <tr>\n",
       "      <th>3</th>\n",
       "      <td>David</td>\n",
       "      <td>32</td>\n",
       "      <td>Houston</td>\n",
       "      <td>92</td>\n",
       "    </tr>\n",
       "    <tr>\n",
       "      <th>4</th>\n",
       "      <td>Eva</td>\n",
       "      <td>29</td>\n",
       "      <td>Phoenix</td>\n",
       "      <td>79</td>\n",
       "    </tr>\n",
       "  </tbody>\n",
       "</table>\n",
       "</div>"
      ],
      "text/plain": [
       "      Name  Age         City  Score\n",
       "0    Alice   24     New York     85\n",
       "1      Bob   27  Los Angeles     90\n",
       "2  Charlie   22      Chicago     88\n",
       "3    David   32      Houston     92\n",
       "4      Eva   29      Phoenix     79"
      ]
     },
     "execution_count": 11,
     "metadata": {},
     "output_type": "execute_result"
    }
   ],
   "source": [
    "# Selecting rows where Age is greater than 25 or Score is greater than 80\n",
    "subset_df_or = df1.loc[(df1['Age'] > 25) | (df1['Score'] > 80)]\n",
    "subset_df_or\n"
   ]
  },
  {
   "cell_type": "code",
   "execution_count": null,
   "id": "d6433658-bfbf-4030-b396-f9e7418ef08d",
   "metadata": {},
   "outputs": [],
   "source": []
  }
 ],
 "metadata": {
  "kernelspec": {
   "display_name": "Python 3 (ipykernel)",
   "language": "python",
   "name": "python3"
  },
  "language_info": {
   "codemirror_mode": {
    "name": "ipython",
    "version": 3
   },
   "file_extension": ".py",
   "mimetype": "text/x-python",
   "name": "python",
   "nbconvert_exporter": "python",
   "pygments_lexer": "ipython3",
   "version": "3.7.9"
  }
 },
 "nbformat": 4,
 "nbformat_minor": 5
}
