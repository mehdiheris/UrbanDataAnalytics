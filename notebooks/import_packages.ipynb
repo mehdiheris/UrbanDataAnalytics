{
  "nbformat": 4,
  "nbformat_minor": 0,
  "metadata": {
    "colab": {
      "name": "Introduction to Installing and Importing Packages in Google Colab",
      "provenance": [],
      "collapsed_sections": [],
      "toc_visible": true
    },
    "kernelspec": {
      "name": "python3",
      "display_name": "Python 3"
    },
    "language_info": {
      "name": "python",
      "version": "3.7"
    }
  },
  "cells": [
    {
      "cell_type": "markdown",
      "metadata": {},
      "source": [
        "# Introduction to Installing and Importing Packages in Google Colab\n",
        "\n",
        "In this notebook, we will learn how to install new packages in Google Colab, import them, and understand why we use `as` or `from` in our imports.\n",
        "\n",
        "## Installing Packages\n",
        "\n",
        "Google Colab comes with many pre-installed packages. However, sometimes we need to install additional packages that are not available by default. We can easily install these using the `!pip install` command.\n",
        "\n",
        "For example, let's install some commonly used packages: `numpy`, `matplotlib`, `scipy`, `statsmodels`, `seaborn`, and `pandas`."
      ]
    },
    {
      "cell_type": "code",
      "metadata": {
        "id": "pip-install"
      },
      "source": [
        "# Install the necessary packages\n",
        "!pip install numpy matplotlib scipy statsmodels seaborn pandas"
      ],
      "execution_count": null,
      "outputs": []
    },
    {
      "cell_type": "markdown",
      "metadata": {},
      "source": [
        "The `!pip install` command is used to install any package from the Python Package Index (PyPI). The exclamation mark `!` is used in Google Colab to run shell commands directly from the notebook."
      ]
    },
    {
      "cell_type": "markdown",
      "metadata": {},
      "source": [
        "## Importing Packages\n",
        "\n",
        "Once a package is installed, we can import it into our notebook using the `import` statement. Importing allows us to use the functions and classes defined in that package.\n",
        "\n",
        "### Basic Import\n",
        "\n",
        "Let's import the packages we just installed:"
      ]
    },
    {
      "cell_type": "code",
      "metadata": {
        "id": "import-packages"
      },
      "source": [
        "# Import the installed packages\n",
        "import numpy as np\n",
        "import matplotlib.pyplot as plt\n",
        "import scipy\n",
        "import statsmodels.api as sm\n",
        "import seaborn as sns\n",
        "import pandas as pd"
      ],
      "execution_count": null,
      "outputs": []
    },
    {
      "cell_type": "markdown",
      "metadata": {},
      "source": [
        "Now we can use these packages to perform various tasks. Let's look at some examples:\n",
        "\n",
        "### Example: Using numpy\n",
        "\n",
        "We'll create a simple array using `numpy`."
      ]
    },
    {
      "cell_type": "code",
      "metadata": {
        "id": "use-numpy"
      },
      "source": [
        "# Use numpy to create an array\n",
        "array = np.array([1, 2, 3, 4])\n",
        "print(array)"
      ],
      "execution_count": null,
      "outputs": []
    },
    {
      "cell_type": "markdown",
      "metadata": {},
      "source": [
        "### Example: Using matplotlib\n",
        "\n",
        "We'll create a simple plot using `matplotlib`."
      ]
    },
    {
      "cell_type": "code",
      "metadata": {
        "id": "use-matplotlib"
      },
      "source": [
        "# Use matplotlib to create a plot\n",
        "plt.plot(array)\n",
        "plt.title('Simple Plot')\n",
        "plt.show()"
      ],
      "execution_count": null,
      "outputs": []
    },
    {
      "cell_type": "markdown",
      "metadata": {},
      "source": [
        "### Example: Using scipy\n",
        "\n",
        "We'll use `scipy` to perform a simple statistical test."
      ]
    },
    {
      "cell_type": "code",
      "metadata": {
        "id": "use-scipy"
      },
      "source": [
        "# Use scipy to perform a statistical test\n",
        "from scipy import stats\n",
        "\n",
        "# Generate two random samples\n",
        "sample1 = np.random.normal(0, 1, 100)\n",
        "sample2 = np.random.normal(0, 1, 100)\n",
        "\n",
        "# Perform a t-test\n",
        "t_stat, p_value = stats.ttest_ind(sample1, sample2)\n",
        "print('t-statistic:', t_stat)\n",
        "print('p-value:', p_value)"
      ],
      "execution_count": null,
      "outputs": []
    },
    {
      "cell_type": "markdown",
      "metadata": {},
      "source": [
        "### Example: Using statsmodels\n",
        "\n",
        "We'll use `statsmodels` to fit a simple linear regression model."
      ]
    },
    {
      "cell_type": "code",
      "metadata": {
        "id": "use-statsmodels"
      },
      "source": [
        "# Use statsmodels to fit a linear regression model\n",
        "# Generate some example data\n",
        "X = np.random.rand(100)\n",
        "y = 2 * X + np.random.normal(0, 0.1, 100)\n",
        "\n",
        "# Add a constant to the input data\n",
        "X = sm.add_constant(X)\n",
        "\n",
        "# Fit the model\n",
        "model = sm.OLS(y, X).fit()\n",
        "print(model.summary())"
      ],
      "execution_count": null,
      "outputs": []
    },
    {
      "cell_type": "markdown",
      "metadata": {},
      "source": [
        "### Example: Using seaborn\n",
        "\n",
        "We'll use `seaborn` to create a simple histogram."
      ]
    },
    {
      "cell_type": "code",
      "metadata": {
        "id": "use-seaborn"
      },
      "source": [
        "# Use seaborn to create a histogram\n",
        "sns.histplot(sample1, kde=True)\n",
        "plt.title('Seaborn Histogram')\n",
        "plt.show()"
      ],
      "execution_count": null,
      "outputs": []
    },
    {
      "cell_type": "markdown",
      "metadata": {},
      "source": [
        "### Example: Using pandas\n",
        "\n",
        "We'll use `pandas` to create and display a DataFrame."
      ]
    },
    {
      "cell_type": "code",
      "metadata": {
        "id": "use-pandas"
      },
      "source": [
        "# Use pandas to create a DataFrame\n",
        "data = {'Column1': [1, 2, 3, 4], 'Column2': [5, 6, 7, 8]}\n",
        "df = pd.DataFrame(data)\n",
        "print(df)"
      ],
      "execution_count": null,
      "outputs": []
    },
    {
      "cell_type": "markdown",
      "metadata": {},
      "source": [
        "### Summary\n",
        "\n",
        "In this notebook, we learned how to:\n",
        "\n",
        "- Install new packages using `!pip install` in Google Colab.\n",
        "- Import packages using the `import` statement.\n",
        "- Use `as` to give imported packages or modules an alias.\n",
        "- Use `from` to import specific functions or classes from a module.\n",
        "\n",
        "These techniques are essential for working with external libraries and making our code more organized and efficient. Happy coding!"
      ]
    }
  ]
}
