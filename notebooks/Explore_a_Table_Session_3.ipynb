{
 "cells": [
  {
<<<<<<< HEAD
   "cell_type": "markdown",
   "id": "3103a9bc-0014-4cfb-813b-8b97d4194e1a",
   "metadata": {},
   "source": [
    "# Mount Google Drive"
   ]
  },
  {
=======
>>>>>>> 43439a04a5039712c3a6e84d7cfc888997146cd2
   "cell_type": "code",
   "execution_count": null,
   "id": "2f22738b-4ea2-4a4e-b3b4-8e0bf56fcdf2",
   "metadata": {},
   "outputs": [],
   "source": [
    "from google.colab import drive\n",
    "\n",
    "# Mount Google Drive\n",
    "drive.mount('/content/drive')\n",
    "\n",
    "# Navigate to the desired directory\n",
    "import os\n",
    "os.chdir('/content/drive/My Drive/')\n",
    "\n",
    "# Verify the current working directory\n",
    "!pwd"
   ]
  },
  {
<<<<<<< HEAD
   "cell_type": "markdown",
   "id": "467713a2-f31d-463c-9b3a-bf4b0d9459e8",
   "metadata": {},
   "source": [
    "## Import necessary libraries\n"
   ]
  },
  {
=======
>>>>>>> 43439a04a5039712c3a6e84d7cfc888997146cd2
   "cell_type": "code",
   "execution_count": null,
   "id": "7390b4cd-bfba-4d72-b691-d043481659e2",
   "metadata": {},
   "outputs": [],
   "source": [
    "# Import necessary libraries\n",
    "import pandas as pd\n",
    "import seaborn as sns"
   ]
  },
  {
<<<<<<< HEAD
   "cell_type": "markdown",
   "id": "5833839e-dae7-4cd4-a895-93f94e0a27e6",
   "metadata": {},
   "source": [
    "## Load a CSV file into a DataFrame\n"
   ]
  },
  {
=======
>>>>>>> 43439a04a5039712c3a6e84d7cfc888997146cd2
   "cell_type": "code",
   "execution_count": null,
   "id": "567bf015-3f0b-462e-bfda-8e3b904fae56",
   "metadata": {},
   "outputs": [],
   "source": [
    "# Load a CSV file into a DataFrame\n",
    "df = pd.read_csv('your_file.csv')"
   ]
  },
  {
   "cell_type": "code",
   "execution_count": null,
   "id": "e9002071-4025-4528-b2ee-1d8718399d72",
   "metadata": {},
   "outputs": [],
   "source": [
    "# Display basic information about the DataFrame\n",
    "df.info()"
   ]
  },
  {
<<<<<<< HEAD
   "cell_type": "markdown",
   "id": "a93868cf-01fb-4f86-b30d-0f9158fab283",
   "metadata": {},
   "source": [
    "## Describe a specific column in the DataFrame\n"
   ]
  },
  {
=======
>>>>>>> 43439a04a5039712c3a6e84d7cfc888997146cd2
   "cell_type": "code",
   "execution_count": null,
   "id": "0fe88c9f-d42d-4d52-b40e-7aa6c22a0be5",
   "metadata": {},
   "outputs": [],
   "source": [
    "# Describe a specific column in the DataFrame\n",
    "df['your_column'].describe()"
   ]
  },
  {
   "cell_type": "code",
   "execution_count": null,
   "id": "e47660dc-ac73-4362-b949-36fb10658b7a",
   "metadata": {},
   "outputs": [],
   "source": [
    "# Check for null or NaN values in the DataFrame\n",
    "df.isnull().sum()"
   ]
  },
  {
<<<<<<< HEAD
   "cell_type": "markdown",
   "id": "1c276562-ed11-427e-b62e-4185f5e00d2a",
   "metadata": {},
   "source": [
    "## Drop rows with NaN values\n",
    "In this example, we are choosing to drop rows that contain NaN values because they might represent incomplete or missing data that could skew our analysis. \n",
    "It's important to assess the impact of dropping these rows on the overall dataset. If a large portion of data is missing, other methods such as filling in missing values might be considered.\n"
   ]
  },
  {
=======
>>>>>>> 43439a04a5039712c3a6e84d7cfc888997146cd2
   "cell_type": "code",
   "execution_count": null,
   "id": "bb274077-ea47-472b-9ce6-c9ad2ac860d4",
   "metadata": {},
   "outputs": [],
   "source": [
<<<<<<< HEAD
=======
    "# Drop rows with NaN values\n",
    "# Explanation:\n",
    "# In this example, we are choosing to drop rows that contain NaN values because they might represent incomplete or missing data that could skew our analysis. \n",
    "# It's important to assess the impact of dropping these rows on the overall dataset. If a large portion of data is missing, other methods such as filling in missing values might be considered.\n",
>>>>>>> 43439a04a5039712c3a6e84d7cfc888997146cd2
    "df = df.dropna()"
   ]
  },
  {
<<<<<<< HEAD
   "cell_type": "markdown",
   "id": "54567353-246c-4756-aa22-e6794f318efb",
   "metadata": {},
   "source": [
    "## Renaming a column\n",
    "### Explanation of `inplace`:\n",
    "The `inplace` parameter in pandas methods determines whether the operation is performed on the original DataFrame or if a new DataFrame is returned. \n",
    "When `inplace=True`, the changes are applied directly to the original DataFrame, and nothing is returned. This can be useful to save memory and avoid creating additional copies of the DataFrame.\n",
    "If `inplace=False` (the default), the method returns a new DataFrame with the changes applied, leaving the original DataFrame unchanged. \n",
    "Use `inplace=True` when you want to modify the existing DataFrame directly without needing a new copy.\n",
    "### where else can inplace argument be used?\n",
    "Other than rename, you can look into the drop() function that drops a column. Another function is reset_index()."
   ]
  },
  {
   "cell_type": "markdown",
   "id": "caef6795-51e8-43f9-8e29-3d0248d5b236",
   "metadata": {},
   "source": [
    "## Renaming a column\n"
   ]
  },
  {
=======
>>>>>>> 43439a04a5039712c3a6e84d7cfc888997146cd2
   "cell_type": "code",
   "execution_count": null,
   "id": "5eb8bbfb-f440-4157-9396-1db91bbc7e96",
   "metadata": {},
   "outputs": [],
   "source": [
    "\n",
<<<<<<< HEAD
    "# To rename a column, use the `rename` method and specify the old and new column names\n",
    "df.rename(columns={'old_column_name': 'new_column_name'}, inplace=True)\n",
    "\n"
   ]
  },
  {
   "cell_type": "markdown",
   "id": "ce79dc60-f50a-41d6-992f-54b67e7ea216",
   "metadata": {},
   "source": [
    "# Converting a date column from string to datetime"
   ]
  },
  {
   "cell_type": "markdown",
   "id": "c59aabd0-dede-4718-973e-9cb2fa5bbb14",
   "metadata": {},
   "source": [
    "### Converting Datetime Strings to Datetime Objects in Python\n",
    "\n",
    "In data analysis and manipulation, working with date and time data efficiently is crucial. Python provides a powerful module called `datetime` to handle date and time operations. Often, date and time information is stored as strings in datasets, but to perform any meaningful analysis, it is necessary to convert these strings into `datetime` objects.\n",
    "\n",
    "The `datetime` module in Python offers the `strptime` method, which stands for \"string parse time,\" to convert datetime strings to `datetime` objects. The `strptime` method requires two arguments: the date string and the format string. The date string is the actual string representation of the date and time, and the format string specifies the expected format of the date string using specific format codes. For example, `%Y` represents a four-digit year, `%m` represents a two-digit month, and `%d` represents a two-digit day. Here's an example:"
   ]
  },
  {
   "cell_type": "markdown",
   "id": "4d619362-de8c-4923-928f-d36cf622c644",
   "metadata": {},
   "source": [
    "### If you are using string outside of pandas"
=======
    "# Renaming a column\n",
    "# To rename a column, use the `rename` method and specify the old and new column names\n",
    "df.rename(columns={'old_column_name': 'new_column_name'}, inplace=True)\n",
    "\n",
    "# Explanation of `inplace`:\n",
    "# The `inplace` parameter in pandas methods determines whether the operation is performed on the original DataFrame or if a new DataFrame is returned. \n",
    "# When `inplace=True`, the changes are applied directly to the original DataFrame, and nothing is returned. This can be useful to save memory and avoid creating additional copies of the DataFrame.\n",
    "# If `inplace=False` (the default), the method returns a new DataFrame with the changes applied, leaving the original DataFrame unchanged. \n",
    "# Use `inplace=True` when you want to modify the existing DataFrame directly without needing a new copy.\n"
>>>>>>> 43439a04a5039712c3a6e84d7cfc888997146cd2
   ]
  },
  {
   "cell_type": "code",
   "execution_count": null,
<<<<<<< HEAD
   "id": "dc0d4bb7-41a4-4dfb-8f05-18c5926007d2",
   "metadata": {},
   "outputs": [],
   "source": [
    "from datetime import datetime\n",
    "\n",
    "date_string = \"2023-07-30 14:45:00\"\n",
    "date_format = \"%Y-%m-%d %H:%M:%S\"\n",
    "\n",
    "# Convert to datetime object\n",
    "date_object = datetime.strptime(date_string, date_format)\n",
    "\n",
    "print(\"Datetime object:\", date_object)\n"
   ]
  },
  {
   "cell_type": "markdown",
   "id": "068ac818-06cd-4569-9bc7-53d225a03ba4",
   "metadata": {},
   "source": [
    "### if you are using pandas\n",
    "When working with pandas, you often need to convert columns containing datetime strings to datetime objects for more efficient analysis and manipulation. Pandas provides the pd.to_datetime() function to handle this conversion effortlessly.\n",
    "\n",
    "Converting Datetime Strings to Datetime Objects in Pandas\n",
    "Pandas offers a powerful function called pd.to_datetime() that simplifies the conversion of datetime strings to datetime objects within a DataFrame. This function can automatically infer the format of the date strings, or you can explicitly specify the format using the format parameter for better performance."
   ]
  },
  {
   "cell_type": "code",
   "execution_count": null,
   "id": "f29b5bb1-3985-4f1b-9971-76003f93c8a1",
   "metadata": {},
   "outputs": [],
   "source": [
    "import pandas as pd\n",
    "\n",
    "# Sample data with datetime strings\n",
    "data = {\n",
    "    'date_strings': [\"2023-07-30 14:45:00\", \"2023-08-01 09:15:00\", \"2023-08-05 16:30:00\"]\n",
    "}\n",
    "\n",
    "# Create a DataFrame\n",
    "df = pd.DataFrame(data)\n",
    "\n",
    "# Convert the 'date_strings' column to datetime objects\n",
    "df['date_objects'] = pd.to_datetime(df['date_strings'])\n",
    "\n",
    "df"
   ]
  },
  {
   "cell_type": "markdown",
   "id": "1d329226-c490-4e34-a0ff-9c3d96c26661",
   "metadata": {},
   "source": [
    "In this example, the date_strings column contains date and time as strings. The pd.to_datetime() function is used to convert these strings into datetime objects, stored in a new column named date_objects. This conversion allows for more efficient date and time operations within the DataFrame.\n",
    "\n",
    "Specifying the format can improve the performance and ensure correctness, especially if the date strings are in a non-standard format:"
   ]
  },
  {
   "cell_type": "code",
   "execution_count": null,
   "id": "2b12eb34-0c8c-4374-891c-c217586287d3",
   "metadata": {},
   "outputs": [],
   "source": [
    "# Convert the 'date_strings' column to datetime objects with a specified format\n",
    "df['date_objects'] = pd.to_datetime(df['date_strings'], format=\"%Y-%m-%d %H:%M:%S\")\n",
    "\n",
    "df"
   ]
  },
  {
   "cell_type": "markdown",
   "id": "637c10b9-d369-4fdc-bff3-72264724cd79",
   "metadata": {},
   "source": [
    "Using datetime objects within a DataFrame offers several advantages. You can easily perform operations like extracting specific parts of the date (e.g., year, month, day), computing time differences, and more. Here are a few examples:"
   ]
  },
  {
   "cell_type": "code",
   "execution_count": null,
   "id": "3499aee0-e20b-4b72-a911-23fc092a4f7b",
   "metadata": {},
   "outputs": [],
   "source": [
    "# Extracting the year from the datetime objects\n",
    "df['year'] = df['date_objects'].dt.year\n",
    "\n",
    "# Adding 5 days to each datetime object\n",
    "df['date_plus_5_days'] = df['date_objects'] + pd.Timedelta(days=5)\n",
    "\n",
    "# Filtering rows based on a date condition\n",
    "filtered_df = df[df['date_objects'] > pd.Timestamp('2023-08-01')]\n",
    "\n",
    "df\n"
   ]
  },
  {
   "cell_type": "code",
   "execution_count": null,
   "id": "2f97a860-9d87-43dc-8f32-f9a133b6a2af",
   "metadata": {},
   "outputs": [],
   "source": [
    "filtered_df"
   ]
  },
  {
   "cell_type": "markdown",
   "id": "24215f67-40b8-4b1c-8984-965a00ee8319",
   "metadata": {},
   "source": [
    "By converting datetime strings to datetime objects in pandas, you enhance your ability to manipulate and analyze date and time data effectively, leveraging the full power of pandas' time series functionalities.\n",
    "\n",
    "\n",
    "\n",
    "\n",
    "\n",
    "\n"
   ]
  },
  {
   "cell_type": "markdown",
   "id": "50ad06e3-7e22-4837-9812-30458fb42b4c",
   "metadata": {},
   "source": [
    "# Check the type of a column\n"
=======
   "id": "ba0305b2-ba8a-455a-abe7-67ba1bc3f488",
   "metadata": {},
   "outputs": [],
   "source": [
    "# Converting a date column from string to datetime\n",
    "# Assume the date column is named 'date_column' and is currently in string format\n",
    "# If the date format is not standard, specify the format explicitly\n",
    "# Example formats: 'YYYY-MM-DD', 'DD/MM/YYYY', 'MM-DD-YYYY', 'YYYY/MM/DD HH:MM:SS', etc.\n",
    "df['datetime'] = pd.to_datetime(df['date_column'], format='%Y-%m-%d')\n",
    "\n",
    "# If the date column has multiple formats, use `errors='coerce'` to handle invalid parsing\n",
    "# df['datetime'] = pd.to_datetime(df['date_column'], errors='coerce')\n"
>>>>>>> 43439a04a5039712c3a6e84d7cfc888997146cd2
   ]
  },
  {
   "cell_type": "code",
   "execution_count": null,
   "id": "9d1ff9b8-b492-471a-803a-cae05ea7b1fe",
   "metadata": {},
   "outputs": [],
   "source": [
<<<<<<< HEAD
    "print(df['column_name'].dtype)\n",
    "\n",
    "# Convert a column containing numbers in string format to a numerical type\n",
    "# Use `errors='coerce'` to handle invalid parsing\n",
    "df['column_name'] = pd.to_numeric(df['column_name'], errors='coerce')\n",
    "\n",
    "# Display the type of the column after conversion\n",
    "print(df['column_name'].dtype)"
   ]
  },
  {
   "cell_type": "code",
   "execution_count": null,
   "id": "6d8dcf3e-dcf6-465d-8e20-7fa18eccec01",
   "metadata": {},
   "outputs": [],
   "source": []
=======
    "# Check the type of a column\n",
    "print(df['number_column'].dtype)\n",
    "\n",
    "# Convert a column containing numbers in string format to a numerical type\n",
    "# Use `errors='coerce'` to handle invalid parsing\n",
    "df['number_column'] = pd.to_numeric(df['number_column'], errors='coerce')\n",
    "\n",
    "# Display the type of the column after conversion\n",
    "print(df['number_column'].dtype)"
   ]
>>>>>>> 43439a04a5039712c3a6e84d7cfc888997146cd2
  }
 ],
 "metadata": {
  "kernelspec": {
   "display_name": "Python 3 (ipykernel)",
   "language": "python",
   "name": "python3"
  },
  "language_info": {
   "codemirror_mode": {
    "name": "ipython",
    "version": 3
   },
   "file_extension": ".py",
   "mimetype": "text/x-python",
   "name": "python",
   "nbconvert_exporter": "python",
   "pygments_lexer": "ipython3",
   "version": "3.9.2"
  }
 },
 "nbformat": 4,
 "nbformat_minor": 5
}
